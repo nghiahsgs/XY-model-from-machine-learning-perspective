{
 "cells": [
  {
   "cell_type": "code",
   "execution_count": 1,
   "metadata": {
    "colab": {},
    "colab_type": "code",
    "id": "BSPdjrwu-5Ep"
   },
   "outputs": [],
   "source": [
    "import numpy as np\n",
    "import matplotlib.pyplot as plt\n",
    "import h5py\n",
    "import sys\n",
    "import os\n"
   ]
  },
  {
   "cell_type": "code",
   "execution_count": 2,
   "metadata": {
    "colab": {},
    "colab_type": "code",
    "id": "Uhgx1L7h_UpR"
   },
   "outputs": [
    {
     "data": {
      "text/plain": [
       "'/home/nghiahsgs/Desktop/XY-model-from-machine-learning-perspective/codes'"
      ]
     },
     "execution_count": 2,
     "metadata": {},
     "output_type": "execute_result"
    }
   ],
   "source": [
    "os.getcwd()"
   ]
  },
  {
   "cell_type": "code",
   "execution_count": 3,
   "metadata": {
    "colab": {},
    "colab_type": "code",
    "id": "wcnlFkvu_T-r"
   },
   "outputs": [],
   "source": [
    "data_dir='../model/angle/Delta0.34'\n",
    "delta=0.34"
   ]
  },
  {
   "cell_type": "code",
   "execution_count": 0,
   "metadata": {
    "colab": {},
    "colab_type": "code",
    "id": "4sJda17i_AHv"
   },
   "outputs": [],
   "source": [
    "for L in [12,16,24,32,40,48,56,64]:\n",
    "    file_path='%s/L%s/%s'%(data_dir,L,'progress.h5')\n",
    "    f=h5py.File(file_path,'r')\n",
    "    \n",
    "    acc=f['acc'][()]\n",
    "    val_acc=f['val_acc'][()]\n",
    "\n",
    "    plt.figure()\n",
    "    plt.plot(np.arange(len(acc)),acc,val_acc)\n",
    "    plt.ylim([0.9,1.0])\n",
    "    plt.xlabel('epoch')\n",
    "    plt.legend(['acc','val_acc'])\n",
    "    plt.savefig('%s/%s_%s_acc.pdf'%(result_dir,delta,L))\n",
    "    plt.show()\n",
    "    \n",
    "    "
   ]
  },
  {
   "cell_type": "code",
   "execution_count": 0,
   "metadata": {
    "colab": {},
    "colab_type": "code",
    "id": "YZ1PUsoV_Lho"
   },
   "outputs": [],
   "source": [
    "for L in [12,16,24,32,40,48,56,64]:\n",
    "    acc=f['loss'][()]\n",
    "    val_acc=f['val_loss'][()]\n",
    "\n",
    "    plt.figure()\n",
    "    plt.plot(np.arange(len(acc)),acc,val_acc)\n",
    "    plt.ylim([0,0.2])\n",
    "    plt.xlabel('epoch')\n",
    "    plt.legend(['loss','val_loss'])\n",
    "    plt.savefig('%s/%s_%s_loss.pdf'%(result_dir,delta,L))\n",
    "    \n",
    "                                 "
   ]
  }
 ],
 "metadata": {
  "colab": {
   "name": "plot_acc_vs_epoch.ipynb",
   "provenance": []
  },
  "kernelspec": {
   "display_name": "Python 3",
   "language": "python",
   "name": "python3"
  },
  "language_info": {
   "codemirror_mode": {
    "name": "ipython",
    "version": 3
   },
   "file_extension": ".py",
   "mimetype": "text/x-python",
   "name": "python",
   "nbconvert_exporter": "python",
   "pygments_lexer": "ipython3",
   "version": "3.6.8"
  }
 },
 "nbformat": 4,
 "nbformat_minor": 1
}
