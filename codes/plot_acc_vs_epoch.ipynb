{
  "nbformat": 4,
  "nbformat_minor": 0,
  "metadata": {
    "colab": {
      "name": "plot_acc_vs_epoch.ipynb",
      "provenance": []
    },
    "kernelspec": {
      "name": "python3",
      "display_name": "Python 3"
    }
  },
  "cells": [
    {
      "cell_type": "code",
      "metadata": {
        "id": "BSPdjrwu-5Ep",
        "colab_type": "code",
        "colab": {}
      },
      "source": [
        "import numpy as np\n",
        "import matplotlib.pyplot as plt\n",
        "import h5py\n",
        "import sys\n",
        "import os\n"
      ],
      "execution_count": 0,
      "outputs": []
    },
    {
      "cell_type": "code",
      "metadata": {
        "id": "Uhgx1L7h_UpR",
        "colab_type": "code",
        "colab": {}
      },
      "source": [
        "os.getcwd()"
      ],
      "execution_count": 0,
      "outputs": []
    },
    {
      "cell_type": "code",
      "metadata": {
        "id": "wcnlFkvu_T-r",
        "colab_type": "code",
        "colab": {}
      },
      "source": [
        "result_dir='result_acc_vs_epoch'\n",
        "\n",
        "data_dir=sys.argv[1]\n",
        "delta=sys.argv[2]"
      ],
      "execution_count": 0,
      "outputs": []
    },
    {
      "cell_type": "code",
      "metadata": {
        "id": "4sJda17i_AHv",
        "colab_type": "code",
        "colab": {}
      },
      "source": [
        "for L in [12,16,24,32,40,48,56,64]:\n",
        "    file_path='%s/L%s/%s'%(data_dir,L,'progress.h5')\n",
        "    f=h5py.File(file_path,'r')\n",
        "    \n",
        "    acc=f['acc'][()]\n",
        "    val_acc=f['val_acc'][()]\n",
        "\n",
        "    plt.figure()\n",
        "    plt.plot(np.arange(len(acc)),acc,val_acc)\n",
        "    plt.ylim([0.9,1.0])\n",
        "    plt.xlabel('epoch')\n",
        "    plt.legend(['acc','val_acc'])\n",
        "    plt.savefig('%s/%s_%s_acc.pdf'%(result_dir,delta,L))\n",
        "    \n",
        "    "
      ],
      "execution_count": 0,
      "outputs": []
    },
    {
      "cell_type": "code",
      "metadata": {
        "id": "YZ1PUsoV_Lho",
        "colab_type": "code",
        "colab": {}
      },
      "source": [
        "for L in [12,16,24,32,40,48,56,64]:\n",
        "    acc=f['loss'][()]\n",
        "    val_acc=f['val_loss'][()]\n",
        "\n",
        "    plt.figure()\n",
        "    plt.plot(np.arange(len(acc)),acc,val_acc)\n",
        "    plt.ylim([0,0.2])\n",
        "    plt.xlabel('epoch')\n",
        "    plt.legend(['loss','val_loss'])\n",
        "    plt.savefig('%s/%s_%s_loss.pdf'%(result_dir,delta,L))\n",
        "    \n",
        "                                 "
      ],
      "execution_count": 0,
      "outputs": []
    }
  ]
}